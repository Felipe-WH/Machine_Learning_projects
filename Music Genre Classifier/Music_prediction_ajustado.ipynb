{
 "cells": [
  {
   "cell_type": "markdown",
   "id": "f03967a2",
   "metadata": {},
   "source": [
    "##### "
   ]
  },
  {
   "cell_type": "markdown",
   "id": "a48c0977",
   "metadata": {},
   "source": [
    "<center><h1> Music Genre prediction using Sklearn Logistic Regression, XGBoost and Neural Network model </h1></center>\n"
   ]
  },
  {
   "cell_type": "markdown",
   "id": "b3d59f00",
   "metadata": {},
   "source": [
    "# "
   ]
  },
  {
   "cell_type": "markdown",
   "id": "63e768ac",
   "metadata": {},
   "source": [
    "## Importando as bibliotecas"
   ]
  },
  {
   "cell_type": "code",
   "execution_count": 25,
   "id": "2d70fea3",
   "metadata": {},
   "outputs": [],
   "source": [
    "import pandas as pd\n",
    "import numpy as np\n",
    "import matplotlib.pyplot as plt\n",
    "import seaborn as sns\n",
    "import swifter\n",
    "\n",
    "from sklearn.neighbors import KNeighborsClassifier\n",
    "from sklearn.ensemble import RandomForestClassifier\n",
    "from sklearn.linear_model import LogisticRegression\n",
    "from xgboost import XGBClassifier\n",
    "from sklearn.neural_network import MLPClassifier\n",
    "\n",
    "\n",
    "from sklearn.model_selection import train_test_split, cross_val_score\n",
    "\n",
    "from sklearn.metrics import classification_report\n",
    "from sklearn.metrics import accuracy_score\n",
    "\n",
    "from sklearn.preprocessing import LabelEncoder, MinMaxScaler\n",
    "from imblearn.under_sampling import RandomUnderSampler \n",
    "\n",
    "from sklearn.model_selection import StratifiedKFold\n",
    "\n",
    "import warnings\n",
    "warnings.filterwarnings('ignore')"
   ]
  },
  {
   "cell_type": "markdown",
   "id": "2057bd2d",
   "metadata": {},
   "source": [
    "# "
   ]
  },
  {
   "cell_type": "markdown",
   "id": "619d7403",
   "metadata": {},
   "source": [
    "# Importando DataFrame"
   ]
  },
  {
   "cell_type": "code",
   "execution_count": 26,
   "id": "1aecf98b",
   "metadata": {
    "scrolled": false
   },
   "outputs": [],
   "source": [
    "dados = pd.read_csv(\"SpotifyFeatures.csv\").drop([\"energy\",\"popularity\"],1)"
   ]
  },
  {
   "cell_type": "code",
   "execution_count": 27,
   "id": "9c8c65cb",
   "metadata": {},
   "outputs": [
    {
     "name": "stdout",
     "output_type": "stream",
     "text": [
      "Número de músicas antes de filtrar:  232725\n",
      "Número de músicas antes de filtrar:  111541\n",
      "\n",
      "Gêneros musicais na base de dados:\n",
      " ['Electronic' 'Folk' 'Blues' 'Hip-Hop' 'Rap' 'Indie' 'Classical' 'Pop'\n",
      " 'Reggae' 'Jazz' 'Rock' 'Soundtrack']\n"
     ]
    }
   ],
   "source": [
    "print(\"Número de músicas antes de filtrar: \", dados.shape[0])\n",
    "\n",
    "generos = [\"Pop\",\"Rock\",\"Rap\",\"Hip-Hop\",\"Jazz\",\n",
    "           \"Classical\", \"Indie\",\"Reggae\",\n",
    "           \"Electronic\", \"Blues\",\"Folk\",\n",
    "           \"Soundtrack\"]\n",
    "\n",
    "dados = dados[dados.genre.isin(generos)].copy()\n",
    "\n",
    "print(\"Número de músicas antes de filtrar: \", dados.shape[0])\n",
    "print(\"\\nGêneros musicais na base de dados:\\n\", dados[\"genre\"].unique())"
   ]
  },
  {
   "cell_type": "markdown",
   "id": "3dc6aacf",
   "metadata": {},
   "source": [
    "# "
   ]
  },
  {
   "cell_type": "markdown",
   "id": "e922f3fb",
   "metadata": {},
   "source": [
    "### Agrupamento de Rap/Hip-Hop, Indie/Folk e Jazz/Blues"
   ]
  },
  {
   "cell_type": "code",
   "execution_count": 28,
   "id": "c17c59ae",
   "metadata": {},
   "outputs": [],
   "source": [
    "dados[\"genre\"] = np.where(np.logical_or(np.array(dados[\"genre\"]) == \"Rap\", np.array(dados[\"genre\"]) == \"Hip-Hop\"), \"Rap/Hip-Hop\", dados[\"genre\"])\n",
    "dados[\"genre\"] = np.where(np.logical_or(np.array(dados[\"genre\"]) == \"Indie\", np.array(dados[\"genre\"]) == \"Folk\"), \"Indie/Folk\", dados[\"genre\"])\n",
    "dados[\"genre\"] = np.where(np.logical_or(np.array(dados[\"genre\"]) == \"Jazz\", np.array(dados[\"genre\"]) == \"Blues\"), \"Jazz/Blues\", dados[\"genre\"])"
   ]
  },
  {
   "cell_type": "markdown",
   "id": "15af1c56",
   "metadata": {},
   "source": [
    "# "
   ]
  },
  {
   "cell_type": "markdown",
   "id": "03dc03de",
   "metadata": {},
   "source": [
    "# Concertando skewness das variáveis quantitativas"
   ]
  },
  {
   "cell_type": "code",
   "execution_count": 29,
   "id": "728dac9e",
   "metadata": {
    "scrolled": true
   },
   "outputs": [
    {
     "data": {
      "text/html": [
       "<div>\n",
       "<style scoped>\n",
       "    .dataframe tbody tr th:only-of-type {\n",
       "        vertical-align: middle;\n",
       "    }\n",
       "\n",
       "    .dataframe tbody tr th {\n",
       "        vertical-align: top;\n",
       "    }\n",
       "\n",
       "    .dataframe thead th {\n",
       "        text-align: right;\n",
       "    }\n",
       "</style>\n",
       "<table border=\"1\" class=\"dataframe\">\n",
       "  <thead>\n",
       "    <tr style=\"text-align: right;\">\n",
       "      <th></th>\n",
       "      <th>acousticness</th>\n",
       "      <th>danceability</th>\n",
       "      <th>duration_ms</th>\n",
       "      <th>instrumentalness</th>\n",
       "      <th>liveness</th>\n",
       "      <th>loudness</th>\n",
       "      <th>speechiness</th>\n",
       "      <th>tempo</th>\n",
       "      <th>valence</th>\n",
       "    </tr>\n",
       "  </thead>\n",
       "  <tbody>\n",
       "    <tr>\n",
       "      <th>22169</th>\n",
       "      <td>0.1530</td>\n",
       "      <td>0.841</td>\n",
       "      <td>212500</td>\n",
       "      <td>0.000003</td>\n",
       "      <td>0.0618</td>\n",
       "      <td>-4.206</td>\n",
       "      <td>0.2290</td>\n",
       "      <td>95.948</td>\n",
       "      <td>0.591</td>\n",
       "    </tr>\n",
       "    <tr>\n",
       "      <th>22170</th>\n",
       "      <td>0.0771</td>\n",
       "      <td>0.652</td>\n",
       "      <td>205947</td>\n",
       "      <td>0.000010</td>\n",
       "      <td>0.1440</td>\n",
       "      <td>-5.311</td>\n",
       "      <td>0.0368</td>\n",
       "      <td>100.023</td>\n",
       "      <td>0.152</td>\n",
       "    </tr>\n",
       "    <tr>\n",
       "      <th>22171</th>\n",
       "      <td>0.0742</td>\n",
       "      <td>0.536</td>\n",
       "      <td>192000</td>\n",
       "      <td>0.000000</td>\n",
       "      <td>0.0847</td>\n",
       "      <td>-3.019</td>\n",
       "      <td>0.0621</td>\n",
       "      <td>140.137</td>\n",
       "      <td>0.334</td>\n",
       "    </tr>\n",
       "  </tbody>\n",
       "</table>\n",
       "</div>"
      ],
      "text/plain": [
       "       acousticness  danceability  duration_ms  instrumentalness  liveness  \\\n",
       "22169        0.1530         0.841       212500          0.000003    0.0618   \n",
       "22170        0.0771         0.652       205947          0.000010    0.1440   \n",
       "22171        0.0742         0.536       192000          0.000000    0.0847   \n",
       "\n",
       "       loudness  speechiness    tempo  valence  \n",
       "22169    -4.206       0.2290   95.948    0.591  \n",
       "22170    -5.311       0.0368  100.023    0.152  \n",
       "22171    -3.019       0.0621  140.137    0.334  "
      ]
     },
     "execution_count": 29,
     "metadata": {},
     "output_type": "execute_result"
    }
   ],
   "source": [
    "df_model = dados.copy()\n",
    "df_model = df_model.drop(df_model.columns[[1,2,3]], 1)\n",
    "\n",
    "quantitatives = df_model.select_dtypes(['int64', float])\n",
    "quantitatives.head(3)"
   ]
  },
  {
   "cell_type": "markdown",
   "id": "e81815f7",
   "metadata": {},
   "source": [
    "## Visualização da Skewness de cada feature"
   ]
  },
  {
   "cell_type": "code",
   "execution_count": 30,
   "id": "b792f0a5",
   "metadata": {
    "scrolled": true
   },
   "outputs": [
    {
     "data": {
      "text/html": [
       "<div>\n",
       "<style scoped>\n",
       "    .dataframe tbody tr th:only-of-type {\n",
       "        vertical-align: middle;\n",
       "    }\n",
       "\n",
       "    .dataframe tbody tr th {\n",
       "        vertical-align: top;\n",
       "    }\n",
       "\n",
       "    .dataframe thead th {\n",
       "        text-align: right;\n",
       "    }\n",
       "</style>\n",
       "<table border=\"1\" class=\"dataframe\">\n",
       "  <thead>\n",
       "    <tr style=\"text-align: right;\">\n",
       "      <th></th>\n",
       "      <th>skew</th>\n",
       "    </tr>\n",
       "    <tr>\n",
       "      <th>index</th>\n",
       "      <th></th>\n",
       "    </tr>\n",
       "  </thead>\n",
       "  <tbody>\n",
       "    <tr>\n",
       "      <th>acousticness</th>\n",
       "      <td>0.610110</td>\n",
       "    </tr>\n",
       "    <tr>\n",
       "      <th>danceability</th>\n",
       "      <td>-0.430254</td>\n",
       "    </tr>\n",
       "    <tr>\n",
       "      <th>duration_ms</th>\n",
       "      <td>6.332808</td>\n",
       "    </tr>\n",
       "    <tr>\n",
       "      <th>instrumentalness</th>\n",
       "      <td>1.266879</td>\n",
       "    </tr>\n",
       "    <tr>\n",
       "      <th>liveness</th>\n",
       "      <td>2.420971</td>\n",
       "    </tr>\n",
       "    <tr>\n",
       "      <th>loudness</th>\n",
       "      <td>-1.654779</td>\n",
       "    </tr>\n",
       "    <tr>\n",
       "      <th>speechiness</th>\n",
       "      <td>2.448425</td>\n",
       "    </tr>\n",
       "    <tr>\n",
       "      <th>tempo</th>\n",
       "      <td>0.364109</td>\n",
       "    </tr>\n",
       "    <tr>\n",
       "      <th>valence</th>\n",
       "      <td>0.170849</td>\n",
       "    </tr>\n",
       "  </tbody>\n",
       "</table>\n",
       "</div>"
      ],
      "text/plain": [
       "                      skew\n",
       "index                     \n",
       "acousticness      0.610110\n",
       "danceability     -0.430254\n",
       "duration_ms       6.332808\n",
       "instrumentalness  1.266879\n",
       "liveness          2.420971\n",
       "loudness         -1.654779\n",
       "speechiness       2.448425\n",
       "tempo             0.364109\n",
       "valence           0.170849"
      ]
     },
     "execution_count": 30,
     "metadata": {},
     "output_type": "execute_result"
    }
   ],
   "source": [
    "skewness = {}\n",
    "for i in quantitatives.columns:\n",
    "    skewness[i] = quantitatives[i].skew()\n",
    "    \n",
    "skewness = pd.DataFrame({\"index\": skewness.keys(), \"skew\":skewness.values()}).set_index(\"index\", inplace= False)\n",
    "skewness"
   ]
  },
  {
   "cell_type": "markdown",
   "id": "22435178",
   "metadata": {},
   "source": [
    "# Transformação das features"
   ]
  },
  {
   "cell_type": "code",
   "execution_count": 31,
   "id": "8e513786",
   "metadata": {
    "scrolled": false
   },
   "outputs": [
    {
     "name": "stdout",
     "output_type": "stream",
     "text": [
      "Dados quantitativos antes da transformação: \n"
     ]
    },
    {
     "data": {
      "text/html": [
       "<div>\n",
       "<style scoped>\n",
       "    .dataframe tbody tr th:only-of-type {\n",
       "        vertical-align: middle;\n",
       "    }\n",
       "\n",
       "    .dataframe tbody tr th {\n",
       "        vertical-align: top;\n",
       "    }\n",
       "\n",
       "    .dataframe thead th {\n",
       "        text-align: right;\n",
       "    }\n",
       "</style>\n",
       "<table border=\"1\" class=\"dataframe\">\n",
       "  <thead>\n",
       "    <tr style=\"text-align: right;\">\n",
       "      <th></th>\n",
       "      <th>acousticness</th>\n",
       "      <th>danceability</th>\n",
       "      <th>duration_ms</th>\n",
       "      <th>instrumentalness</th>\n",
       "      <th>liveness</th>\n",
       "      <th>loudness</th>\n",
       "      <th>speechiness</th>\n",
       "      <th>tempo</th>\n",
       "      <th>valence</th>\n",
       "    </tr>\n",
       "  </thead>\n",
       "  <tbody>\n",
       "    <tr>\n",
       "      <th>22169</th>\n",
       "      <td>0.153000</td>\n",
       "      <td>0.841</td>\n",
       "      <td>212500</td>\n",
       "      <td>0.000003</td>\n",
       "      <td>0.0618</td>\n",
       "      <td>-4.206</td>\n",
       "      <td>0.2290</td>\n",
       "      <td>95.948</td>\n",
       "      <td>0.591</td>\n",
       "    </tr>\n",
       "    <tr>\n",
       "      <th>22170</th>\n",
       "      <td>0.077100</td>\n",
       "      <td>0.652</td>\n",
       "      <td>205947</td>\n",
       "      <td>0.000010</td>\n",
       "      <td>0.1440</td>\n",
       "      <td>-5.311</td>\n",
       "      <td>0.0368</td>\n",
       "      <td>100.023</td>\n",
       "      <td>0.152</td>\n",
       "    </tr>\n",
       "    <tr>\n",
       "      <th>22171</th>\n",
       "      <td>0.074200</td>\n",
       "      <td>0.536</td>\n",
       "      <td>192000</td>\n",
       "      <td>0.000000</td>\n",
       "      <td>0.0847</td>\n",
       "      <td>-3.019</td>\n",
       "      <td>0.0621</td>\n",
       "      <td>140.137</td>\n",
       "      <td>0.334</td>\n",
       "    </tr>\n",
       "    <tr>\n",
       "      <th>22172</th>\n",
       "      <td>0.020300</td>\n",
       "      <td>0.586</td>\n",
       "      <td>220573</td>\n",
       "      <td>0.000000</td>\n",
       "      <td>0.0550</td>\n",
       "      <td>-5.326</td>\n",
       "      <td>0.0416</td>\n",
       "      <td>104.957</td>\n",
       "      <td>0.254</td>\n",
       "    </tr>\n",
       "    <tr>\n",
       "      <th>22173</th>\n",
       "      <td>0.000726</td>\n",
       "      <td>0.793</td>\n",
       "      <td>450800</td>\n",
       "      <td>0.880000</td>\n",
       "      <td>0.0750</td>\n",
       "      <td>-9.548</td>\n",
       "      <td>0.0581</td>\n",
       "      <td>130.270</td>\n",
       "      <td>0.856</td>\n",
       "    </tr>\n",
       "  </tbody>\n",
       "</table>\n",
       "</div>"
      ],
      "text/plain": [
       "       acousticness  danceability  duration_ms  instrumentalness  liveness  \\\n",
       "22169      0.153000         0.841       212500          0.000003    0.0618   \n",
       "22170      0.077100         0.652       205947          0.000010    0.1440   \n",
       "22171      0.074200         0.536       192000          0.000000    0.0847   \n",
       "22172      0.020300         0.586       220573          0.000000    0.0550   \n",
       "22173      0.000726         0.793       450800          0.880000    0.0750   \n",
       "\n",
       "       loudness  speechiness    tempo  valence  \n",
       "22169    -4.206       0.2290   95.948    0.591  \n",
       "22170    -5.311       0.0368  100.023    0.152  \n",
       "22171    -3.019       0.0621  140.137    0.334  \n",
       "22172    -5.326       0.0416  104.957    0.254  \n",
       "22173    -9.548       0.0581  130.270    0.856  "
      ]
     },
     "metadata": {},
     "output_type": "display_data"
    },
    {
     "name": "stdout",
     "output_type": "stream",
     "text": [
      "\n",
      "\n",
      "Dados quantitativos depois da transformação: \n"
     ]
    },
    {
     "data": {
      "text/html": [
       "<div>\n",
       "<style scoped>\n",
       "    .dataframe tbody tr th:only-of-type {\n",
       "        vertical-align: middle;\n",
       "    }\n",
       "\n",
       "    .dataframe tbody tr th {\n",
       "        vertical-align: top;\n",
       "    }\n",
       "\n",
       "    .dataframe thead th {\n",
       "        text-align: right;\n",
       "    }\n",
       "</style>\n",
       "<table border=\"1\" class=\"dataframe\">\n",
       "  <thead>\n",
       "    <tr style=\"text-align: right;\">\n",
       "      <th></th>\n",
       "      <th>acousticness</th>\n",
       "      <th>danceability</th>\n",
       "      <th>duration_ms</th>\n",
       "      <th>instrumentalness</th>\n",
       "      <th>liveness</th>\n",
       "      <th>loudness</th>\n",
       "      <th>speechiness</th>\n",
       "      <th>tempo</th>\n",
       "      <th>valence</th>\n",
       "    </tr>\n",
       "  </thead>\n",
       "  <tbody>\n",
       "    <tr>\n",
       "      <th>22169</th>\n",
       "      <td>0.153000</td>\n",
       "      <td>0.841</td>\n",
       "      <td>59.674160</td>\n",
       "      <td>0.014933</td>\n",
       "      <td>-2.783852</td>\n",
       "      <td>2.191654</td>\n",
       "      <td>-1.474033</td>\n",
       "      <td>95.948</td>\n",
       "      <td>0.591</td>\n",
       "    </tr>\n",
       "    <tr>\n",
       "      <th>22170</th>\n",
       "      <td>0.077100</td>\n",
       "      <td>0.652</td>\n",
       "      <td>59.054340</td>\n",
       "      <td>0.021687</td>\n",
       "      <td>-1.937942</td>\n",
       "      <td>2.308070</td>\n",
       "      <td>-3.302257</td>\n",
       "      <td>100.023</td>\n",
       "      <td>0.152</td>\n",
       "    </tr>\n",
       "    <tr>\n",
       "      <th>22171</th>\n",
       "      <td>0.074200</td>\n",
       "      <td>0.536</td>\n",
       "      <td>57.689983</td>\n",
       "      <td>0.000000</td>\n",
       "      <td>-2.468640</td>\n",
       "      <td>2.049369</td>\n",
       "      <td>-2.779009</td>\n",
       "      <td>140.137</td>\n",
       "      <td>0.334</td>\n",
       "    </tr>\n",
       "    <tr>\n",
       "      <th>22172</th>\n",
       "      <td>0.020300</td>\n",
       "      <td>0.586</td>\n",
       "      <td>60.420472</td>\n",
       "      <td>0.000000</td>\n",
       "      <td>-2.900422</td>\n",
       "      <td>2.309561</td>\n",
       "      <td>-3.179655</td>\n",
       "      <td>104.957</td>\n",
       "      <td>0.254</td>\n",
       "    </tr>\n",
       "    <tr>\n",
       "      <th>22173</th>\n",
       "      <td>0.000726</td>\n",
       "      <td>0.793</td>\n",
       "      <td>76.676327</td>\n",
       "      <td>0.958284</td>\n",
       "      <td>-2.590267</td>\n",
       "      <td>2.659700</td>\n",
       "      <td>-2.845590</td>\n",
       "      <td>130.270</td>\n",
       "      <td>0.856</td>\n",
       "    </tr>\n",
       "  </tbody>\n",
       "</table>\n",
       "</div>"
      ],
      "text/plain": [
       "       acousticness  danceability  duration_ms  instrumentalness  liveness  \\\n",
       "22169      0.153000         0.841    59.674160          0.014933 -2.783852   \n",
       "22170      0.077100         0.652    59.054340          0.021687 -1.937942   \n",
       "22171      0.074200         0.536    57.689983          0.000000 -2.468640   \n",
       "22172      0.020300         0.586    60.420472          0.000000 -2.900422   \n",
       "22173      0.000726         0.793    76.676327          0.958284 -2.590267   \n",
       "\n",
       "       loudness  speechiness    tempo  valence  \n",
       "22169  2.191654    -1.474033   95.948    0.591  \n",
       "22170  2.308070    -3.302257  100.023    0.152  \n",
       "22171  2.049369    -2.779009  140.137    0.334  \n",
       "22172  2.309561    -3.179655  104.957    0.254  \n",
       "22173  2.659700    -2.845590  130.270    0.856  "
      ]
     },
     "metadata": {},
     "output_type": "display_data"
    },
    {
     "data": {
      "text/html": [
       "<div>\n",
       "<style scoped>\n",
       "    .dataframe tbody tr th:only-of-type {\n",
       "        vertical-align: middle;\n",
       "    }\n",
       "\n",
       "    .dataframe tbody tr th {\n",
       "        vertical-align: top;\n",
       "    }\n",
       "\n",
       "    .dataframe thead th {\n",
       "        text-align: right;\n",
       "    }\n",
       "</style>\n",
       "<table border=\"1\" class=\"dataframe\">\n",
       "  <thead>\n",
       "    <tr style=\"text-align: right;\">\n",
       "      <th></th>\n",
       "      <th>skew</th>\n",
       "      <th>transformed</th>\n",
       "    </tr>\n",
       "    <tr>\n",
       "      <th>index</th>\n",
       "      <th></th>\n",
       "      <th></th>\n",
       "    </tr>\n",
       "  </thead>\n",
       "  <tbody>\n",
       "    <tr>\n",
       "      <th>acousticness</th>\n",
       "      <td>0.610110</td>\n",
       "      <td>0.610110</td>\n",
       "    </tr>\n",
       "    <tr>\n",
       "      <th>danceability</th>\n",
       "      <td>-0.430254</td>\n",
       "      <td>-0.430254</td>\n",
       "    </tr>\n",
       "    <tr>\n",
       "      <th>duration_ms</th>\n",
       "      <td>6.332808</td>\n",
       "      <td>0.904801</td>\n",
       "    </tr>\n",
       "    <tr>\n",
       "      <th>instrumentalness</th>\n",
       "      <td>1.266879</td>\n",
       "      <td>0.837268</td>\n",
       "    </tr>\n",
       "    <tr>\n",
       "      <th>liveness</th>\n",
       "      <td>2.420971</td>\n",
       "      <td>0.731575</td>\n",
       "    </tr>\n",
       "    <tr>\n",
       "      <th>loudness</th>\n",
       "      <td>-1.654779</td>\n",
       "      <td>0.673882</td>\n",
       "    </tr>\n",
       "    <tr>\n",
       "      <th>speechiness</th>\n",
       "      <td>2.448425</td>\n",
       "      <td>1.065134</td>\n",
       "    </tr>\n",
       "    <tr>\n",
       "      <th>tempo</th>\n",
       "      <td>0.364109</td>\n",
       "      <td>0.364109</td>\n",
       "    </tr>\n",
       "    <tr>\n",
       "      <th>valence</th>\n",
       "      <td>0.170849</td>\n",
       "      <td>0.170849</td>\n",
       "    </tr>\n",
       "  </tbody>\n",
       "</table>\n",
       "</div>"
      ],
      "text/plain": [
       "                      skew  transformed\n",
       "index                                  \n",
       "acousticness      0.610110     0.610110\n",
       "danceability     -0.430254    -0.430254\n",
       "duration_ms       6.332808     0.904801\n",
       "instrumentalness  1.266879     0.837268\n",
       "liveness          2.420971     0.731575\n",
       "loudness         -1.654779     0.673882\n",
       "speechiness       2.448425     1.065134\n",
       "tempo             0.364109     0.364109\n",
       "valence           0.170849     0.170849"
      ]
     },
     "metadata": {},
     "output_type": "display_data"
    }
   ],
   "source": [
    "new_quantitatives = quantitatives.copy()\n",
    "features_com_skewness = skewness[(skewness[\"skew\"]>1) | (skewness[\"skew\"]<-1)].index\n",
    "\n",
    "for i in features_com_skewness:\n",
    "    if i == \"acousticness\":\n",
    "        new_quantitatives[i] = quantitatives[i].swifter.apply(lambda x: x**(1/3))\n",
    "    if i == \"duration_ms\":\n",
    "        new_quantitatives[i] = quantitatives[i].swifter.apply(lambda x: x**(1/3))\n",
    "    if i == \"instrumentalness\":\n",
    "        new_quantitatives[i] = quantitatives[i].swifter.apply(lambda x: x**(1/3))\n",
    "    if i == \"liveness\":\n",
    "        new_quantitatives[i] = quantitatives[i].swifter.apply(lambda x: np.log(x))\n",
    "    if i == \"loudness\":\n",
    "        new_quantitatives[i] = quantitatives[i].swifter.apply(lambda x: np.log(quantitatives.loudness.max()+1-x))\n",
    "    if i == \"speechiness\":\n",
    "        new_quantitatives[i] = quantitatives[i].swifter.apply(lambda x: np.log(x))\n",
    "    if i == \"tempo\":\n",
    "        new_quantitatives[i] = quantitatives[i].swifter.apply(lambda x: x**(1/3))\n",
    "    if i == \"valence\":\n",
    "        new_quantitatives[i] = quantitatives[i].swifter.apply(lambda x: x**(1/3))\n",
    "    if i == \"danceability\":\n",
    "        new_quantitatives[i] = quantitatives[i].swifter.apply(lambda x: x**(1/3))\n",
    "\n",
    "\n",
    "print(\"Dados quantitativos antes da transformação: \")\n",
    "display(quantitatives.head())\n",
    "print(\"\\n\\nDados quantitativos depois da transformação: \")\n",
    "display(new_quantitatives.head())\n",
    "\n",
    "new_skew = [new_quantitatives[i].skew() for i in skewness.index]\n",
    "\n",
    "skewness[\"transformed\"] = new_skew\n",
    "display(skewness)"
   ]
  },
  {
   "cell_type": "markdown",
   "id": "9c4aed38",
   "metadata": {},
   "source": [
    "# "
   ]
  },
  {
   "cell_type": "markdown",
   "id": "7202c713",
   "metadata": {},
   "source": [
    "## Substituindo os outliers pelos intervalos inferiores e superiores de IQR"
   ]
  },
  {
   "cell_type": "code",
   "execution_count": 32,
   "id": "c23bde7f",
   "metadata": {},
   "outputs": [],
   "source": [
    "new_quantitatives2 = new_quantitatives.copy()\n",
    "for i in new_quantitatives2.columns:\n",
    "    iqr = new_quantitatives2[i].quantile(0.75) - new_quantitatives2[i].quantile(0.25)\n",
    "    lower = new_quantitatives2[i].quantile(0.25) - 1.5*(iqr)\n",
    "    upper = new_quantitatives2[i].quantile(0.75) + 1.5*(iqr)\n",
    "    new_quantitatives2[i]= np.where(np.array(new_quantitatives2[i]) < lower, lower, new_quantitatives2[i])\n",
    "    new_quantitatives2[i]= np.where(np.array(new_quantitatives2[i]) > upper, upper, new_quantitatives2[i])"
   ]
  },
  {
   "cell_type": "markdown",
   "id": "607fdf8c",
   "metadata": {},
   "source": [
    "# "
   ]
  },
  {
   "cell_type": "markdown",
   "id": "56fb8a39",
   "metadata": {},
   "source": [
    "# Creating Machine Learning Model"
   ]
  },
  {
   "cell_type": "code",
   "execution_count": 33,
   "id": "c9b1f2f9",
   "metadata": {
    "scrolled": false
   },
   "outputs": [
    {
     "name": "stdout",
     "output_type": "stream",
     "text": [
      "(111541, 10)\n"
     ]
    },
    {
     "data": {
      "text/html": [
       "<div>\n",
       "<style scoped>\n",
       "    .dataframe tbody tr th:only-of-type {\n",
       "        vertical-align: middle;\n",
       "    }\n",
       "\n",
       "    .dataframe tbody tr th {\n",
       "        vertical-align: top;\n",
       "    }\n",
       "\n",
       "    .dataframe thead th {\n",
       "        text-align: right;\n",
       "    }\n",
       "</style>\n",
       "<table border=\"1\" class=\"dataframe\">\n",
       "  <thead>\n",
       "    <tr style=\"text-align: right;\">\n",
       "      <th></th>\n",
       "      <th>acousticness</th>\n",
       "      <th>danceability</th>\n",
       "      <th>duration_ms</th>\n",
       "      <th>instrumentalness</th>\n",
       "      <th>liveness</th>\n",
       "      <th>loudness</th>\n",
       "      <th>speechiness</th>\n",
       "      <th>tempo</th>\n",
       "      <th>valence</th>\n",
       "      <th>target</th>\n",
       "    </tr>\n",
       "  </thead>\n",
       "  <tbody>\n",
       "    <tr>\n",
       "      <th>22169</th>\n",
       "      <td>0.153000</td>\n",
       "      <td>0.841</td>\n",
       "      <td>59.674160</td>\n",
       "      <td>0.014933</td>\n",
       "      <td>-2.783852</td>\n",
       "      <td>2.191654</td>\n",
       "      <td>-1.474033</td>\n",
       "      <td>95.948</td>\n",
       "      <td>0.591</td>\n",
       "      <td>Electronic</td>\n",
       "    </tr>\n",
       "    <tr>\n",
       "      <th>22170</th>\n",
       "      <td>0.077100</td>\n",
       "      <td>0.652</td>\n",
       "      <td>59.054340</td>\n",
       "      <td>0.021687</td>\n",
       "      <td>-1.937942</td>\n",
       "      <td>2.308070</td>\n",
       "      <td>-3.302257</td>\n",
       "      <td>100.023</td>\n",
       "      <td>0.152</td>\n",
       "      <td>Electronic</td>\n",
       "    </tr>\n",
       "    <tr>\n",
       "      <th>22171</th>\n",
       "      <td>0.074200</td>\n",
       "      <td>0.536</td>\n",
       "      <td>57.689983</td>\n",
       "      <td>0.000000</td>\n",
       "      <td>-2.468640</td>\n",
       "      <td>2.049369</td>\n",
       "      <td>-2.779009</td>\n",
       "      <td>140.137</td>\n",
       "      <td>0.334</td>\n",
       "      <td>Electronic</td>\n",
       "    </tr>\n",
       "    <tr>\n",
       "      <th>22172</th>\n",
       "      <td>0.020300</td>\n",
       "      <td>0.586</td>\n",
       "      <td>60.420472</td>\n",
       "      <td>0.000000</td>\n",
       "      <td>-2.900422</td>\n",
       "      <td>2.309561</td>\n",
       "      <td>-3.179655</td>\n",
       "      <td>104.957</td>\n",
       "      <td>0.254</td>\n",
       "      <td>Electronic</td>\n",
       "    </tr>\n",
       "    <tr>\n",
       "      <th>22173</th>\n",
       "      <td>0.000726</td>\n",
       "      <td>0.793</td>\n",
       "      <td>75.910514</td>\n",
       "      <td>0.958284</td>\n",
       "      <td>-2.590267</td>\n",
       "      <td>2.659700</td>\n",
       "      <td>-2.845590</td>\n",
       "      <td>130.270</td>\n",
       "      <td>0.856</td>\n",
       "      <td>Electronic</td>\n",
       "    </tr>\n",
       "  </tbody>\n",
       "</table>\n",
       "</div>"
      ],
      "text/plain": [
       "       acousticness  danceability  duration_ms  instrumentalness  liveness  \\\n",
       "22169      0.153000         0.841    59.674160          0.014933 -2.783852   \n",
       "22170      0.077100         0.652    59.054340          0.021687 -1.937942   \n",
       "22171      0.074200         0.536    57.689983          0.000000 -2.468640   \n",
       "22172      0.020300         0.586    60.420472          0.000000 -2.900422   \n",
       "22173      0.000726         0.793    75.910514          0.958284 -2.590267   \n",
       "\n",
       "       loudness  speechiness    tempo  valence      target  \n",
       "22169  2.191654    -1.474033   95.948    0.591  Electronic  \n",
       "22170  2.308070    -3.302257  100.023    0.152  Electronic  \n",
       "22171  2.049369    -2.779009  140.137    0.334  Electronic  \n",
       "22172  2.309561    -3.179655  104.957    0.254  Electronic  \n",
       "22173  2.659700    -2.845590  130.270    0.856  Electronic  "
      ]
     },
     "metadata": {},
     "output_type": "display_data"
    }
   ],
   "source": [
    "model_df = new_quantitatives2.copy()\n",
    "model_df[\"target\"] = dados[\"genre\"]\n",
    "\n",
    "print(model_df.shape)\n",
    "display(model_df.head(5))"
   ]
  },
  {
   "cell_type": "markdown",
   "id": "d0ee13e7",
   "metadata": {},
   "source": [
    "# "
   ]
  },
  {
   "cell_type": "markdown",
   "id": "68322e19",
   "metadata": {},
   "source": [
    "## Countplot dos gêneros no dataset"
   ]
  },
  {
   "cell_type": "code",
   "execution_count": 34,
   "id": "ef7aaaeb",
   "metadata": {
    "scrolled": true
   },
   "outputs": [
    {
     "data": {
      "text/plain": [
       "<AxesSubplot:xlabel='target', ylabel='count'>"
      ]
     },
     "execution_count": 34,
     "metadata": {},
     "output_type": "execute_result"
    },
    {
     "data": {
      "image/png": "[encoded data removed]",
      "text/plain": [
       "<Figure size 432x288 with 1 Axes>"
      ]
     },
     "metadata": {
      "needs_background": "light"
     },
     "output_type": "display_data"
    }
   ],
   "source": [
    "plt.xticks(rotation=90)\n",
    "sns.countplot(model_df[\"target\"])"
   ]
  },
  {
   "cell_type": "markdown",
   "id": "cde9bea6",
   "metadata": {},
   "source": [
    "# "
   ]
  },
  {
   "cell_type": "markdown",
   "id": "1a7d66b3",
   "metadata": {},
   "source": [
    "# Modelos de classificação\n"
   ]
  },
  {
   "cell_type": "markdown",
   "id": "76e36e7d",
   "metadata": {},
   "source": [
    "### Logistic Regression"
   ]
  },
  {
   "cell_type": "code",
   "execution_count": 35,
   "id": "4b5effd0",
   "metadata": {
    "scrolled": false
   },
   "outputs": [
    {
     "name": "stdout",
     "output_type": "stream",
     "text": [
      "Cross - Val:  0.49 %\n",
      "Accuracy score:  0.47 %\n",
      "Score:  0.47 %\n",
      "\n",
      "               precision    recall  f1-score   support\n",
      "\n",
      "   Classical       0.69      0.60      0.64      3167\n",
      "  Electronic       0.55      0.46      0.50      3379\n",
      "  Indie/Folk       0.29      0.48      0.36      3441\n",
      "  Jazz/Blues       0.30      0.52      0.38      3150\n",
      "         Pop       0.28      0.24      0.25      3280\n",
      " Rap/Hip-Hop       0.59      0.64      0.62      5162\n",
      "      Reggae       0.51      0.33      0.40      4086\n",
      "        Rock       0.44      0.27      0.33      4644\n",
      "  Soundtrack       0.76      0.70      0.73      3154\n",
      "\n",
      "    accuracy                           0.47     33463\n",
      "   macro avg       0.49      0.47      0.47     33463\n",
      "weighted avg       0.49      0.47      0.47     33463\n",
      "\n"
     ]
    }
   ],
   "source": [
    "X = model_df.drop(\"target\", 1)\n",
    "y = model_df[\"target\"]\n",
    "\n",
    "X_train, X_test, y_train, y_test = train_test_split(X,y,stratify=y, random_state = 42, test_size= 0.3)\n",
    "\n",
    "\n",
    "# Normalização dos dados quantitativos\n",
    "\n",
    "scaler = MinMaxScaler()\n",
    "X_train = pd.DataFrame(scaler.fit_transform(X_train), columns = X_train.columns)\n",
    "X_test = pd.DataFrame(scaler.transform(X_test), columns = X_test.columns)\n",
    "\n",
    "# Balanceamento \n",
    "\n",
    "rus = RandomUnderSampler()\n",
    "X_train, y_train = rus.fit_resample(X_train, y_train)\n",
    "\n",
    "\n",
    "# Criando modelo\n",
    "kf = StratifiedKFold(n_splits = 3, shuffle = True)\n",
    "\n",
    "lr = LogisticRegression().fit(X_train, y_train)\n",
    "y_predict = lr.predict(X_test) #normalized_x_test\n",
    "\n",
    "val = cross_val_score(lr, X_train, y_train, cv=kf)\n",
    "\n",
    "print(\"Cross - Val: \", round(val.mean(),2),\"%\")\n",
    "print(\"Accuracy score: \", round(accuracy_score(y_predict, y_test),2),\"%\")\n",
    "print(\"Score: \", round(lr.score(X_test, y_test),2),\"%\")\n",
    "print(\"\\n\",classification_report(y_predict, y_test))"
   ]
  },
  {
   "cell_type": "code",
   "execution_count": 36,
   "id": "2b8519a8",
   "metadata": {},
   "outputs": [
    {
     "data": {
      "text/html": [
       "<div>\n",
       "<style scoped>\n",
       "    .dataframe tbody tr th:only-of-type {\n",
       "        vertical-align: middle;\n",
       "    }\n",
       "\n",
       "    .dataframe tbody tr th {\n",
       "        vertical-align: top;\n",
       "    }\n",
       "\n",
       "    .dataframe thead th {\n",
       "        text-align: right;\n",
       "    }\n",
       "</style>\n",
       "<table border=\"1\" class=\"dataframe\">\n",
       "  <thead>\n",
       "    <tr style=\"text-align: right;\">\n",
       "      <th></th>\n",
       "      <th>P</th>\n",
       "      <th>R</th>\n",
       "      <th>Acerto/Erro</th>\n",
       "    </tr>\n",
       "  </thead>\n",
       "  <tbody>\n",
       "    <tr>\n",
       "      <th>37018</th>\n",
       "      <td>Electronic</td>\n",
       "      <td>Electronic</td>\n",
       "      <td>1</td>\n",
       "    </tr>\n",
       "    <tr>\n",
       "      <th>69035</th>\n",
       "      <td>Rap/Hip-Hop</td>\n",
       "      <td>Rap/Hip-Hop</td>\n",
       "      <td>1</td>\n",
       "    </tr>\n",
       "    <tr>\n",
       "      <th>114087</th>\n",
       "      <td>Pop</td>\n",
       "      <td>Rap/Hip-Hop</td>\n",
       "      <td>0</td>\n",
       "    </tr>\n",
       "    <tr>\n",
       "      <th>200673</th>\n",
       "      <td>Soundtrack</td>\n",
       "      <td>Soundtrack</td>\n",
       "      <td>1</td>\n",
       "    </tr>\n",
       "    <tr>\n",
       "      <th>42805</th>\n",
       "      <td>Classical</td>\n",
       "      <td>Indie/Folk</td>\n",
       "      <td>0</td>\n",
       "    </tr>\n",
       "  </tbody>\n",
       "</table>\n",
       "</div>"
      ],
      "text/plain": [
       "                  P            R  Acerto/Erro\n",
       "37018    Electronic   Electronic            1\n",
       "69035   Rap/Hip-Hop  Rap/Hip-Hop            1\n",
       "114087          Pop  Rap/Hip-Hop            0\n",
       "200673   Soundtrack   Soundtrack            1\n",
       "42805     Classical   Indie/Folk            0"
      ]
     },
     "execution_count": 36,
     "metadata": {},
     "output_type": "execute_result"
    }
   ],
   "source": [
    "result = pd.DataFrame({\"P\":y_predict,\"R\":y_test}).tail(20)\n",
    "result[\"Acerto/Erro\"]= np.where(np.array(result[\"P\"]) == np.array(result[\"R\"]), 1, 0)\n",
    "result.head()"
   ]
  },
  {
   "cell_type": "markdown",
   "id": "656fcef6",
   "metadata": {},
   "source": [
    "# "
   ]
  },
  {
   "cell_type": "markdown",
   "id": "2f0276b6",
   "metadata": {},
   "source": [
    "## XGBoost"
   ]
  },
  {
   "cell_type": "code",
   "execution_count": 37,
   "id": "107e474c",
   "metadata": {},
   "outputs": [
    {
     "name": "stdout",
     "output_type": "stream",
     "text": [
      "Accuracy score:  0.54 %\n",
      "Score:  0.54 %\n",
      "\n",
      "               precision    recall  f1-score   support\n",
      "\n",
      "           0       0.72      0.76      0.74      2644\n",
      "           1       0.56      0.62      0.59      2536\n",
      "           2       0.52      0.44      0.48      6788\n",
      "           3       0.54      0.51      0.53      5871\n",
      "           4       0.13      0.28      0.18      1345\n",
      "           5       0.78      0.60      0.68      7249\n",
      "           6       0.43      0.52      0.47      2160\n",
      "           7       0.18      0.28      0.22      1843\n",
      "           8       0.80      0.77      0.78      3027\n",
      "\n",
      "    accuracy                           0.54     33463\n",
      "   macro avg       0.52      0.53      0.52     33463\n",
      "weighted avg       0.59      0.54      0.56     33463\n",
      "\n"
     ]
    }
   ],
   "source": [
    "X = model_df.drop(\"target\", 1)\n",
    "y = model_df[\"target\"]\n",
    "\n",
    "X_train, X_test, y_train, y_test = train_test_split(X,y,stratify=y, random_state = 42, test_size= 0.3)\n",
    "\n",
    "le = LabelEncoder()\n",
    "y_train_le= le.fit_transform(y_train)\n",
    "y_test_le = le.fit_transform(y_test)\n",
    "\n",
    "xgb = XGBClassifier().fit(X_train, y_train_le) \n",
    "y_predict = xgb.predict(X_test) \n",
    "\n",
    "print(\"Accuracy score: \", round(accuracy_score(y_predict, y_test_le),2),\"%\")\n",
    "print(\"Score: \", round(xgb.score(X_test, y_test_le),2),\"%\") \n",
    "print(\"\\n\",classification_report(y_predict, y_test_le))"
   ]
  },
  {
   "cell_type": "markdown",
   "id": "b441de42",
   "metadata": {},
   "source": [
    "# "
   ]
  },
  {
   "cell_type": "markdown",
   "id": "6bca595a",
   "metadata": {},
   "source": [
    "## Neural Network Classifier"
   ]
  },
  {
   "cell_type": "code",
   "execution_count": 38,
   "id": "dd1359a4",
   "metadata": {},
   "outputs": [
    {
     "name": "stdout",
     "output_type": "stream",
     "text": [
      "Cross - Val:  0.5 %\n",
      "Accuracy score:  0.48 %\n",
      "Score:  0.48 %\n",
      "\n",
      "               precision    recall  f1-score   support\n",
      "\n",
      "   Classical       0.71      0.63      0.67      3138\n",
      "  Electronic       0.63      0.45      0.53      3969\n",
      "  Indie/Folk       0.31      0.48      0.38      3665\n",
      "  Jazz/Blues       0.35      0.52      0.41      3693\n",
      "         Pop       0.27      0.27      0.27      2798\n",
      " Rap/Hip-Hop       0.60      0.66      0.63      5115\n",
      "      Reggae       0.49      0.35      0.40      3700\n",
      "        Rock       0.41      0.27      0.32      4214\n",
      "  Soundtrack       0.78      0.71      0.74      3171\n",
      "\n",
      "    accuracy                           0.48     33463\n",
      "   macro avg       0.51      0.48      0.48     33463\n",
      "weighted avg       0.51      0.48      0.49     33463\n",
      "\n"
     ]
    }
   ],
   "source": [
    "X = model_df.drop(\"target\", 1)\n",
    "y = model_df[\"target\"]\n",
    "\n",
    "X_train, X_test, y_train, y_test = train_test_split(X,y,stratify=y, random_state = 42, test_size= 0.3)\n",
    "\n",
    "scaler = MinMaxScaler()\n",
    "X_train = pd.DataFrame(scaler.fit_transform(X_train), columns = X_train.columns)\n",
    "X_test = pd.DataFrame(scaler.transform(X_test), columns = X_test.columns)\n",
    "\n",
    "rus = RandomUnderSampler()\n",
    "X_train, y_train = rus.fit_resample(X_train, y_train)\n",
    "\n",
    "NN = MLPClassifier(solver='lbfgs', alpha=1e-5,\n",
    "                    hidden_layer_sizes=(15,), random_state=1).fit(X_train, y_train)\n",
    "\n",
    "kf = StratifiedKFold(n_splits = 3, shuffle = True)\n",
    "y_predict = NN.predict(X_test) \n",
    "val = cross_val_score(NN, X_train, y_train, cv=kf)\n",
    "\n",
    "print(\"Cross - Val: \", round(val.mean(),2),\"%\")\n",
    "print(\"Accuracy score: \", round(accuracy_score(y_predict, y_test),2),\"%\")\n",
    "print(\"Score: \", round(NN.score(X_test, y_test),2),\"%\")\n",
    "print(\"\\n\",classification_report(y_predict, y_test))"
   ]
  },
  {
   "cell_type": "markdown",
   "id": "c48dfcac",
   "metadata": {},
   "source": [
    "# "
   ]
  },
  {
   "cell_type": "markdown",
   "id": "7d2bfbb0",
   "metadata": {},
   "source": [
    "# "
   ]
  },
  {
   "cell_type": "markdown",
   "id": "d7b54817",
   "metadata": {},
   "source": [
    "# Parte 2 - Testar o modelo para novos dados"
   ]
  },
  {
   "cell_type": "markdown",
   "id": "d85a6afb",
   "metadata": {},
   "source": [
    "## Importar base Projeto Grupo2 "
   ]
  },
  {
   "cell_type": "code",
   "execution_count": 39,
   "id": "a7ffa0fb",
   "metadata": {
    "scrolled": true
   },
   "outputs": [],
   "source": [
    "tophits = pd.read_csv(\"spotify_G2.csv\").sort_values(\"artist\",ascending= 0).drop(\"Unnamed: 0\",1)\n"
   ]
  },
  {
   "cell_type": "markdown",
   "id": "9eaffdf1",
   "metadata": {},
   "source": [
    "# "
   ]
  },
  {
   "cell_type": "markdown",
   "id": "a2bf0696",
   "metadata": {},
   "source": [
    "## Transformação das Variáveis para se adequar às transformações do modelo"
   ]
  },
  {
   "cell_type": "code",
   "execution_count": 40,
   "id": "746cace7",
   "metadata": {
    "scrolled": false
   },
   "outputs": [],
   "source": [
    "tophits_name = tophits.name\n",
    "tophits = tophits.drop([\"name\",\"album\",\"artist\",\"release_date\",\"time_signature\", \"popularity\", \"energy\", \"playlist_year\"], 1).copy()\n",
    "tophits.rename(columns={\"length\":\"duration_ms\"}, inplace= True)\n",
    "\n",
    "\n",
    "testar_grupo2 = tophits.copy()\n",
    "\n",
    "for i in features_com_skewness:\n",
    "    if i == \"acousticness\":\n",
    "        testar_grupo2[i] = testar_grupo2[i].swifter.apply(lambda x: x**(1/3))\n",
    "    if i == \"duration_ms\":\n",
    "        testar_grupo2[i] = testar_grupo2[i].swifter.apply(lambda x: x**(1/3))\n",
    "    if i == \"instrumentalness\":\n",
    "        testar_grupo2[i] = testar_grupo2[i].swifter.apply(lambda x: x**(1/3))\n",
    "    if i == \"liveness\":\n",
    "        testar_grupo2[i] = testar_grupo2[i].swifter.apply(lambda x: np.log(x))\n",
    "    if i == \"loudness\":\n",
    "        testar_grupo2[i] = testar_grupo2[i].swifter.apply(lambda x: np.log(testar_grupo2.loudness.max()+1-x))\n",
    "    if i == \"speechiness\":\n",
    "        testar_grupo2[i] = testar_grupo2[i].swifter.apply(lambda x: np.log(x))\n",
    "    if i == \"tempo\":\n",
    "        testar_grupo2[i] = testar_grupo2[i].swifter.apply(lambda x: x**(1/3))\n",
    "    if i == \"valence\":\n",
    "        testar_grupo2[i] = testar_grupo2[i].swifter.apply(lambda x: x**(1/3))\n",
    "    if i == \"danceability\":\n",
    "        testar_grupo2[i] = testar_grupo2[i].swifter.apply(lambda x: x**(1/3))\n",
    "\n",
    "\n",
    "#testar_grupo2 = testar_grupo2[[\"acousticness\",\"danceability\",\"duration_ms\",\"instrumentalness\",\"liveness\",\"loudness\",\"speechiness\",\"tempo\",\"valence\"]].copy()\n",
    "tophits = testar_grupo2[[\"acousticness\",\"danceability\",\"duration_ms\",\"instrumentalness\",\"liveness\",\"loudness\",\"speechiness\",\"tempo\"]].copy()\n",
    "\n"
   ]
  },
  {
   "cell_type": "markdown",
   "id": "1e4e2369",
   "metadata": {},
   "source": [
    "# "
   ]
  },
  {
   "cell_type": "markdown",
   "id": "4da615f0",
   "metadata": {},
   "source": [
    "## Prevendo resultados"
   ]
  },
  {
   "cell_type": "code",
   "execution_count": 41,
   "id": "425cdf36",
   "metadata": {
    "scrolled": false
   },
   "outputs": [],
   "source": [
    "X_semvalence = X.drop(\"valence\", 1)\n",
    "\n",
    "X_train, X_test, y_train, y_test = train_test_split(X_semvalence, y,stratify=y, random_state = 42, test_size= 0.3)\n",
    "\n",
    "scaler = MinMaxScaler()\n",
    "X_train = pd.DataFrame(scaler.fit_transform(X_train), columns = X_semvalence.columns)\n",
    "X_test = pd.DataFrame(scaler.transform(tophits), columns = tophits.columns)\n",
    "\n",
    "lr = LogisticRegression().fit(X_train, y_train)\n",
    "\n",
    "y_predict = lr.predict(X_test)\n",
    "\n",
    "Resultado = pd.DataFrame({\"track_name\": tophits_name, \"Predicted\": y_predict})"
   ]
  },
  {
   "cell_type": "code",
   "execution_count": 42,
   "id": "82647358",
   "metadata": {},
   "outputs": [
    {
     "data": {
      "text/html": [
       "<div>\n",
       "<style scoped>\n",
       "    .dataframe tbody tr th:only-of-type {\n",
       "        vertical-align: middle;\n",
       "    }\n",
       "\n",
       "    .dataframe tbody tr th {\n",
       "        vertical-align: top;\n",
       "    }\n",
       "\n",
       "    .dataframe thead th {\n",
       "        text-align: right;\n",
       "    }\n",
       "</style>\n",
       "<table border=\"1\" class=\"dataframe\">\n",
       "  <thead>\n",
       "    <tr style=\"text-align: right;\">\n",
       "      <th></th>\n",
       "      <th>track_name</th>\n",
       "      <th>Predicted</th>\n",
       "    </tr>\n",
       "  </thead>\n",
       "  <tbody>\n",
       "    <tr>\n",
       "      <th>966</th>\n",
       "      <td>#thatPOWER</td>\n",
       "      <td>Pop</td>\n",
       "    </tr>\n",
       "    <tr>\n",
       "      <th>930</th>\n",
       "      <td>Scream &amp; Shout</td>\n",
       "      <td>Rap/Hip-Hop</td>\n",
       "    </tr>\n",
       "    <tr>\n",
       "      <th>153</th>\n",
       "      <td>All The Things She Said</td>\n",
       "      <td>Pop</td>\n",
       "    </tr>\n",
       "    <tr>\n",
       "      <th>872</th>\n",
       "      <td>We Are Young (feat. Janelle Monáe)</td>\n",
       "      <td>Pop</td>\n",
       "    </tr>\n",
       "    <tr>\n",
       "      <th>226</th>\n",
       "      <td>I Miss You</td>\n",
       "      <td>Rock</td>\n",
       "    </tr>\n",
       "    <tr>\n",
       "      <th>...</th>\n",
       "      <td>...</td>\n",
       "      <td>...</td>\n",
       "    </tr>\n",
       "    <tr>\n",
       "      <th>1237</th>\n",
       "      <td>Bank Account</td>\n",
       "      <td>Rap/Hip-Hop</td>\n",
       "    </tr>\n",
       "    <tr>\n",
       "      <th>962</th>\n",
       "      <td>We Own It (Fast &amp; Furious)</td>\n",
       "      <td>Rap/Hip-Hop</td>\n",
       "    </tr>\n",
       "    <tr>\n",
       "      <th>41</th>\n",
       "      <td>It's Gonna Be Me</td>\n",
       "      <td>Pop</td>\n",
       "    </tr>\n",
       "    <tr>\n",
       "      <th>27</th>\n",
       "      <td>Bye Bye Bye</td>\n",
       "      <td>Pop</td>\n",
       "    </tr>\n",
       "    <tr>\n",
       "      <th>51</th>\n",
       "      <td>This I Promise You</td>\n",
       "      <td>Indie/Folk</td>\n",
       "    </tr>\n",
       "  </tbody>\n",
       "</table>\n",
       "<p>1539 rows × 2 columns</p>\n",
       "</div>"
      ],
      "text/plain": [
       "                              track_name    Predicted\n",
       "966                           #thatPOWER          Pop\n",
       "930                       Scream & Shout  Rap/Hip-Hop\n",
       "153              All The Things She Said          Pop\n",
       "872   We Are Young (feat. Janelle Monáe)          Pop\n",
       "226                           I Miss You         Rock\n",
       "...                                  ...          ...\n",
       "1237                        Bank Account  Rap/Hip-Hop\n",
       "962           We Own It (Fast & Furious)  Rap/Hip-Hop\n",
       "41                      It's Gonna Be Me          Pop\n",
       "27                           Bye Bye Bye          Pop\n",
       "51                    This I Promise You   Indie/Folk\n",
       "\n",
       "[1539 rows x 2 columns]"
      ]
     },
     "execution_count": 42,
     "metadata": {},
     "output_type": "execute_result"
    }
   ],
   "source": [
    "Resultado"
   ]
  },
  {
   "cell_type": "markdown",
   "id": "255eae1d",
   "metadata": {},
   "source": [
    "# "
   ]
  },
  {
   "cell_type": "markdown",
   "id": "58468347",
   "metadata": {},
   "source": [
    "# "
   ]
  }
 ],
 "metadata": {
  "kernelspec": {
   "display_name": "Python 3",
   "language": "python",
   "name": "python3"
  },
  "language_info": {
   "codemirror_mode": {
    "name": "ipython",
    "version": 3
   },
   "file_extension": ".py",
   "mimetype": "text/x-python",
   "name": "python",
   "nbconvert_exporter": "python",
   "pygments_lexer": "ipython3",
   "version": "3.8.8"
  }
 },
 "nbformat": 4,
 "nbformat_minor": 5
}
